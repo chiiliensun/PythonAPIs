{
 "cells": [
  {
   "cell_type": "markdown",
   "id": "complete-speed",
   "metadata": {},
   "source": [
    "#  VacationPy\n",
    "***\n",
    "### Note \n",
    "- Keep an eye on your API usage. Use https://developers.google.com/maps/reporting/gmp-reporting as reference for how to monitor your usage and billing."
   ]
  },
  {
   "cell_type": "code",
   "execution_count": 3,
   "id": "hidden-belief",
   "metadata": {},
   "outputs": [],
   "source": [
    " # Dependencies and Setup\n",
    "import matplotlib.pyplot as plt\n",
    "import pandas as pd\n",
    "import numpy as np\n",
    "import requests\n",
    "import gmaps\n",
    "import os\n",
    "\n",
    "# Import API key\n",
    "from config import gkey"
   ]
  },
  {
   "cell_type": "markdown",
   "id": "rental-mongolia",
   "metadata": {},
   "source": [
    "### Store Part I results into DataFrame\n",
    "- Load the csv exported in Part I to a DataFrame"
   ]
  },
  {
   "cell_type": "code",
   "execution_count": 5,
   "id": "serial-marijuana",
   "metadata": {},
   "outputs": [
    {
     "data": {
      "text/html": [
       "<div>\n",
       "<style scoped>\n",
       "    .dataframe tbody tr th:only-of-type {\n",
       "        vertical-align: middle;\n",
       "    }\n",
       "\n",
       "    .dataframe tbody tr th {\n",
       "        vertical-align: top;\n",
       "    }\n",
       "\n",
       "    .dataframe thead th {\n",
       "        text-align: right;\n",
       "    }\n",
       "</style>\n",
       "<table border=\"1\" class=\"dataframe\">\n",
       "  <thead>\n",
       "    <tr style=\"text-align: right;\">\n",
       "      <th></th>\n",
       "      <th>City</th>\n",
       "      <th>Lat</th>\n",
       "      <th>Lng</th>\n",
       "      <th>Max Temp (F)</th>\n",
       "      <th>Humidity (%)</th>\n",
       "      <th>Cloudiness (%)</th>\n",
       "      <th>Wind Speed (MPH)</th>\n",
       "      <th>Country</th>\n",
       "      <th>Date</th>\n",
       "    </tr>\n",
       "  </thead>\n",
       "  <tbody>\n",
       "    <tr>\n",
       "      <th>0</th>\n",
       "      <td>busselton</td>\n",
       "      <td>-33.6500</td>\n",
       "      <td>115.3333</td>\n",
       "      <td>61.00</td>\n",
       "      <td>75</td>\n",
       "      <td>57</td>\n",
       "      <td>4.00</td>\n",
       "      <td>AU</td>\n",
       "      <td>1612916456</td>\n",
       "    </tr>\n",
       "    <tr>\n",
       "      <th>1</th>\n",
       "      <td>kamenka</td>\n",
       "      <td>51.3223</td>\n",
       "      <td>42.7678</td>\n",
       "      <td>12.00</td>\n",
       "      <td>90</td>\n",
       "      <td>100</td>\n",
       "      <td>10.45</td>\n",
       "      <td>RU</td>\n",
       "      <td>1612916148</td>\n",
       "    </tr>\n",
       "    <tr>\n",
       "      <th>2</th>\n",
       "      <td>port alfred</td>\n",
       "      <td>-7.0349</td>\n",
       "      <td>29.7638</td>\n",
       "      <td>73.94</td>\n",
       "      <td>73</td>\n",
       "      <td>100</td>\n",
       "      <td>4.00</td>\n",
       "      <td>CD</td>\n",
       "      <td>1612916114</td>\n",
       "    </tr>\n",
       "    <tr>\n",
       "      <th>3</th>\n",
       "      <td>broome</td>\n",
       "      <td>42.2506</td>\n",
       "      <td>-75.8330</td>\n",
       "      <td>21.20</td>\n",
       "      <td>73</td>\n",
       "      <td>90</td>\n",
       "      <td>8.05</td>\n",
       "      <td>US</td>\n",
       "      <td>1612916297</td>\n",
       "    </tr>\n",
       "    <tr>\n",
       "      <th>4</th>\n",
       "      <td>maragogi</td>\n",
       "      <td>-9.0122</td>\n",
       "      <td>-35.2225</td>\n",
       "      <td>78.40</td>\n",
       "      <td>77</td>\n",
       "      <td>27</td>\n",
       "      <td>6.02</td>\n",
       "      <td>BR</td>\n",
       "      <td>1612916636</td>\n",
       "    </tr>\n",
       "  </tbody>\n",
       "</table>\n",
       "</div>"
      ],
      "text/plain": [
       "          City      Lat       Lng  Max Temp (F)  Humidity (%)  Cloudiness (%)  \\\n",
       "0    busselton -33.6500  115.3333         61.00            75              57   \n",
       "1      kamenka  51.3223   42.7678         12.00            90             100   \n",
       "2  port alfred  -7.0349   29.7638         73.94            73             100   \n",
       "3       broome  42.2506  -75.8330         21.20            73              90   \n",
       "4     maragogi  -9.0122  -35.2225         78.40            77              27   \n",
       "\n",
       "   Wind Speed (MPH) Country        Date  \n",
       "0              4.00      AU  1612916456  \n",
       "1             10.45      RU  1612916148  \n",
       "2              4.00      CD  1612916114  \n",
       "3              8.05      US  1612916297  \n",
       "4              6.02      BR  1612916636  "
      ]
     },
     "execution_count": 5,
     "metadata": {},
     "output_type": "execute_result"
    }
   ],
   "source": [
    "# read csv and create a dataframe\n",
    "weather_df = pd.read_csv('../Output_files/cities_weather.csv')\n",
    "weather_df.head()"
   ]
  },
  {
   "cell_type": "markdown",
   "id": "iraqi-flexibility",
   "metadata": {},
   "source": [
    "### Humidity Heatmap\n",
    "- Configure gmaps.\n",
    "- Use the Lat and Lng as locations and Humidity as the weight.\n",
    "- Add Heatmap layer to map"
   ]
  },
  {
   "cell_type": "code",
   "execution_count": null,
   "id": "delayed-giant",
   "metadata": {},
   "outputs": [],
   "source": [
    "# configure gmaps\n",
    "gmaps.configure(api_key=gkey)"
   ]
  },
  {
   "cell_type": "code",
   "execution_count": 8,
   "id": "indonesian-silly",
   "metadata": {},
   "outputs": [],
   "source": [
    "# use Lat and Long as locations, Humidity as the weight\n",
    "location = weather_df[['Lat', 'Lng']].astype(float)\n",
    "humidity_w = weather_df['Humidity (%)']"
   ]
  },
  {
   "cell_type": "code",
   "execution_count": 9,
   "id": "informal-chrome",
   "metadata": {},
   "outputs": [
    {
     "data": {
      "application/vnd.jupyter.widget-view+json": {
       "model_id": "c17478abb3e140e4a7cd4f237cc0ac49",
       "version_major": 2,
       "version_minor": 0
      },
      "text/plain": [
       "Figure(layout=FigureLayout(border='1px solid black', height='300px', margin='0 auto 0 auto', padding='1px', wi…"
      ]
     },
     "metadata": {},
     "output_type": "display_data"
    },
    {
     "data": {
      "text/plain": [
       "<Figure size 432x288 with 0 Axes>"
      ]
     },
     "metadata": {},
     "output_type": "display_data"
    }
   ],
   "source": [
    "# customize the size of the figure\n",
    "figure_layout = {\n",
    "    'width': '400px',\n",
    "    'height': '300px',\n",
    "    'border': '1px solid black',\n",
    "    'padding': '1px',\n",
    "    'margin': '0 auto 0 auto'\n",
    "}\n",
    "\n",
    "# plot heatmap\n",
    "fig = gmaps.figure(layout=figure_layout)\n",
    "\n",
    "# create heat layer\n",
    "heat_layer = gmaps.heatmap_layer(location, weights=humidity_w, \n",
    "                                 dissipating=False, max_intensity=100,\n",
    "                                 point_radius = 1)\n",
    "# add layer\n",
    "fig.add_layer(heat_layer)\n",
    "\n",
    "# save png file\n",
    "plt.savefig('../Images/vacationheatmap.png')\n",
    "\n",
    "# display figure\n",
    "fig"
   ]
  },
  {
   "cell_type": "markdown",
   "id": "sacred-artwork",
   "metadata": {},
   "source": [
    "### Create new Data Frame fitting weather criteria\n",
    "- Narrow down the cities to fit weather conditions.\n",
    "- Drop any rows will null values."
   ]
  },
  {
   "cell_type": "code",
   "execution_count": null,
   "id": "viral-minister",
   "metadata": {},
   "outputs": [],
   "source": []
  },
  {
   "cell_type": "markdown",
   "id": "surprising-cycle",
   "metadata": {},
   "source": [
    "### Hotel Map\n",
    "- Store into variable named hotel_df.\n",
    "- Add a \"Hotel Name\" column to the DataFrame.\n",
    "- Set parameters to search for hotels with 5000 meters.\n",
    "- Hit the Google Places API for each city's coordinates.\n",
    "- Store the first Hotel result into the DataFrame.Plot markers on top of the heatmap."
   ]
  },
  {
   "cell_type": "code",
   "execution_count": null,
   "id": "veterinary-mystery",
   "metadata": {},
   "outputs": [],
   "source": []
  },
  {
   "cell_type": "code",
   "execution_count": null,
   "id": "pressed-corrections",
   "metadata": {},
   "outputs": [],
   "source": []
  },
  {
   "cell_type": "code",
   "execution_count": null,
   "id": "front-clerk",
   "metadata": {},
   "outputs": [],
   "source": [
    " # NOTE: Do not change any of the code in this cell\n",
    "\n",
    "# Using the template add the hotel marks to the heatmap\n",
    "info_box_template = \"\"\"\n",
    "<dl>\n",
    "<dt>Name</dt><dd>{Hotel Name}</dd>\n",
    "<dt>City</dt><dd>{City}</dd>\n",
    "<dt>Country</dt><dd>{Country}</dd>\n",
    "</dl>\n",
    "\"\"\"\n",
    "# Store the DataFrame Row\n",
    "# NOTE: be sure to update with your DataFrame name\n",
    "hotel_info = [info_box_template.format(**row) for index, row in hotel_df.iterrows()]\n",
    "locations = hotel_df[[\"Lat\", \"Lng\"]]"
   ]
  },
  {
   "cell_type": "code",
   "execution_count": null,
   "id": "another-recommendation",
   "metadata": {},
   "outputs": [],
   "source": []
  },
  {
   "cell_type": "code",
   "execution_count": null,
   "id": "unavailable-flavor",
   "metadata": {},
   "outputs": [],
   "source": [
    " # Add marker layer ontop of heat map\n",
    "\n",
    "\n",
    "# Display figure"
   ]
  },
  {
   "cell_type": "code",
   "execution_count": null,
   "id": "sitting-relief",
   "metadata": {},
   "outputs": [],
   "source": []
  }
 ],
 "metadata": {
  "kernelspec": {
   "display_name": "Python 3",
   "language": "python",
   "name": "python3"
  },
  "language_info": {
   "codemirror_mode": {
    "name": "ipython",
    "version": 3
   },
   "file_extension": ".py",
   "mimetype": "text/x-python",
   "name": "python",
   "nbconvert_exporter": "python",
   "pygments_lexer": "ipython3",
   "version": "3.6.10"
  }
 },
 "nbformat": 4,
 "nbformat_minor": 5
}
